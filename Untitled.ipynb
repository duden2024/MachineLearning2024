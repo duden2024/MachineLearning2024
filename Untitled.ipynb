{
 "cells": [
  {
   "cell_type": "code",
   "execution_count": 1,
   "id": "576a6c93-aa73-414d-9f2f-97d6f8eea026",
   "metadata": {},
   "outputs": [
    {
     "name": "stdout",
     "output_type": "stream",
     "text": [
      "[<Recursion on list with id=140007922709120>,\n",
      " 'spam',\n",
      " 'eggs',\n",
      " 'lumberjack',\n",
      " 'knights',\n",
      " 'ni']\n"
     ]
    }
   ],
   "source": [
    "import pprint\n",
    "\n",
    "stuff = ['spam', 'eggs', 'lumberjack', 'knights', 'ni']\n",
    "\n",
    "stuff.insert(0, stuff)\n",
    "\n",
    "pprint.pp(stuff)\n"
   ]
  },
  {
   "cell_type": "markdown",
   "id": "aa948a4f-d01d-4a44-b992-9e395ff8fcfb",
   "metadata": {},
   "source": [
    "# Numpy benchmark"
   ]
  },
  {
   "cell_type": "code",
   "execution_count": 2,
   "id": "7ee6eb2b-7bad-4430-8914-cad5780f8f2e",
   "metadata": {},
   "outputs": [],
   "source": [
    "import numpy as np\n",
    "import random"
   ]
  },
  {
   "cell_type": "code",
   "execution_count": 3,
   "id": "263c0bef-2e51-4886-8705-6418d7069822",
   "metadata": {},
   "outputs": [],
   "source": [
    "import time\n",
    "import timeit\n",
    "\n",
    "def benchmark_function(func): \n",
    "    \n",
    "    greeting = func() \n",
    "    print(greeting)"
   ]
  },
  {
   "cell_type": "code",
   "execution_count": 4,
   "id": "31ecdcc9-8813-4bf7-ae0e-255e46c5ec49",
   "metadata": {},
   "outputs": [
    {
     "data": {
      "text/plain": [
       "0.9888625217251595"
      ]
     },
     "execution_count": 4,
     "metadata": {},
     "output_type": "execute_result"
    }
   ],
   "source": [
    "random.random()  "
   ]
  },
  {
   "cell_type": "code",
   "execution_count": 5,
   "id": "6ed0bf95-ae3e-4f85-b5cc-e6848b0fd0a7",
   "metadata": {},
   "outputs": [],
   "source": [
    "size = 1000000000"
   ]
  },
  {
   "cell_type": "markdown",
   "id": "6335ded5-cd32-4f75-94f9-a0ba96abb9e7",
   "metadata": {},
   "source": [
    "## array creation"
   ]
  },
  {
   "cell_type": "markdown",
   "id": "b9c7b427-c92c-4258-b294-8af976c43c74",
   "metadata": {},
   "source": [
    "### for loop python"
   ]
  },
  {
   "cell_type": "code",
   "execution_count": 6,
   "id": "4cfd4298-278a-421c-8907-65580abfb68e",
   "metadata": {},
   "outputs": [],
   "source": [
    "def create_array_python(size):\n",
    "    X_python = []\n",
    "    for i in range(size):\n",
    "        X_python.append(random.random())\n",
    "    return X_python"
   ]
  },
  {
   "cell_type": "code",
   "execution_count": null,
   "id": "5b81a5d2-ce28-4731-8b1a-fbe949d01a59",
   "metadata": {},
   "outputs": [],
   "source": [
    "timeit.Timer(lambda: create_array_python(size)).timeit(number=2)"
   ]
  },
  {
   "cell_type": "code",
   "execution_count": null,
   "id": "9d580889-6e79-4561-bacc-4001ceedabdb",
   "metadata": {},
   "outputs": [],
   "source": [
    "python_list = create_array_python(size)"
   ]
  },
  {
   "cell_type": "markdown",
   "id": "0fc4a161-dc5c-4044-8415-528241259567",
   "metadata": {},
   "source": [
    "### numpy"
   ]
  },
  {
   "cell_type": "code",
   "execution_count": null,
   "id": "32f0197b-f315-43dd-9da4-70cecdc250bd",
   "metadata": {},
   "outputs": [],
   "source": [
    "def create_array_numpy(size):\n",
    "    return np.random.uniform(0, 1, size=(size))"
   ]
  },
  {
   "cell_type": "code",
   "execution_count": null,
   "id": "8897a360-f049-4ef3-9eda-042bf7c697cf",
   "metadata": {},
   "outputs": [],
   "source": [
    "timeit.Timer(lambda: create_array_numpy(size)).timeit(number=2)"
   ]
  },
  {
   "cell_type": "code",
   "execution_count": null,
   "id": "06bfa049-3ace-4086-9f6e-765f64c807a2",
   "metadata": {},
   "outputs": [],
   "source": [
    "numpy_list = create_array_numpy(size)"
   ]
  },
  {
   "cell_type": "markdown",
   "id": "8933dab9-ffff-46ca-a69c-13f154795a3a",
   "metadata": {},
   "source": [
    "## mean value"
   ]
  },
  {
   "cell_type": "markdown",
   "id": "25bb7559-e1e9-458a-b9f9-b491281f1e88",
   "metadata": {},
   "source": [
    "### for loop python"
   ]
  },
  {
   "cell_type": "code",
   "execution_count": null,
   "id": "7d93bf63-3ca4-4763-8f00-29795405cf09",
   "metadata": {},
   "outputs": [],
   "source": [
    "def calculate_mean_python(list):\n",
    "    X_python = 0\n",
    "    for i in list:\n",
    "        X_python += i\n",
    "    return X_python / len(list)"
   ]
  },
  {
   "cell_type": "code",
   "execution_count": null,
   "id": "301f338d-181e-404e-88b0-6ab691dd52dc",
   "metadata": {},
   "outputs": [],
   "source": [
    "timeit.Timer(lambda: calculate_mean_python(python_list)).timeit(number=2)"
   ]
  },
  {
   "cell_type": "code",
   "execution_count": null,
   "id": "d2c7cddd-fa2c-428d-9469-9ca1ee2b3349",
   "metadata": {},
   "outputs": [],
   "source": [
    "mean_python = calculate_mean_python(python_list)"
   ]
  },
  {
   "cell_type": "markdown",
   "id": "11795478-01e9-4b6a-91fc-0bf07855bb68",
   "metadata": {},
   "source": [
    "### numpy"
   ]
  },
  {
   "cell_type": "code",
   "execution_count": null,
   "id": "8a6107b6-474b-42b2-85af-164bdfc3fb0f",
   "metadata": {},
   "outputs": [],
   "source": [
    "def calculate_mean_numpy(array):\n",
    "    return np.mean(array)"
   ]
  },
  {
   "cell_type": "code",
   "execution_count": null,
   "id": "2734378d-0b7f-41fb-8129-8f4088457138",
   "metadata": {},
   "outputs": [],
   "source": [
    "timeit.Timer(lambda: calculate_mean_numpy(numpy_list)).timeit(number=2)"
   ]
  },
  {
   "cell_type": "code",
   "execution_count": null,
   "id": "5f288635-8e53-4d2a-a6b1-5d25842ce663",
   "metadata": {},
   "outputs": [],
   "source": [
    "mean_numpy = calculate_mean_numpy(numpy_list)"
   ]
  },
  {
   "cell_type": "markdown",
   "id": "f44e1da2-2bb0-4315-a998-dacfc8bc8c3b",
   "metadata": {},
   "source": [
    "# Ex"
   ]
  }
 ],
 "metadata": {
  "kernelspec": {
   "display_name": "Python 3 (ipykernel)",
   "language": "python",
   "name": "python3"
  },
  "language_info": {
   "codemirror_mode": {
    "name": "ipython",
    "version": 3
   },
   "file_extension": ".py",
   "mimetype": "text/x-python",
   "name": "python",
   "nbconvert_exporter": "python",
   "pygments_lexer": "ipython3",
   "version": "3.12.6"
  }
 },
 "nbformat": 4,
 "nbformat_minor": 5
}
